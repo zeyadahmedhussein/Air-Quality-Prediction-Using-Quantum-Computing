{
 "cells": [
  {
   "cell_type": "code",
   "execution_count": 1,
   "metadata": {},
   "outputs": [],
   "source": [
    "import pandas as pd\n",
    "import numpy as np\n",
    "import os\n",
    "import pyarrow.parquet as pq\n",
    "import matplotlib.pyplot as plt\n",
    "import seaborn as sns\n",
    "import plotly.express as px\n",
    "import plotly.graph_objects as go\n",
    "import plotly.io as pio\n",
    "import plotly.subplots as sp"
   ]
  },
  {
   "cell_type": "code",
   "execution_count": 2,
   "metadata": {},
   "outputs": [],
   "source": [
    "# Load the dataset\n",
    "df = pd.read_parquet('air_quality_data.parquet')"
   ]
  },
  {
   "cell_type": "code",
   "execution_count": 3,
   "metadata": {},
   "outputs": [
    {
     "name": "stdout",
     "output_type": "stream",
     "text": [
      "Index(['lon', 'time', 'lat', 'DUEXTTAU', 'BCFLUXU', 'OCFLUXV', 'BCANGSTR',\n",
      "       'SUFLUXV', 'SSSMASS25', 'SSSMASS', 'OCSMASS', 'BCCMASS', 'BCSMASS',\n",
      "       'SO4CMASS', 'SSFLUXU', 'DUCMASS', 'SSEXTTAU', 'SO2CMASS', 'DUSCATAU',\n",
      "       'OCANGSTR', 'OCCMASS', 'TOTEXTTAU', 'DUSCAT25', 'TOTANGSTR', 'DMSCMASS',\n",
      "       'SSEXTT25', 'DUANGSTR', 'DMSSMASS', 'BCEXTTAU', 'SSSCATAU', 'DUFLUXV',\n",
      "       'DUFLUXU', 'SUEXTTAU', 'SSFLUXV', 'BCSCATAU', 'DUCMASS25', 'OCEXTTAU',\n",
      "       'SUANGSTR', 'SSSCAT25', 'SSCMASS25', 'SO4SMASS', 'DUSMASS', 'SUFLUXU',\n",
      "       'BCFLUXV', 'DUSMASS25', 'SSCMASS', 'SUSCATAU', 'SO2SMASS', 'SSANGSTR',\n",
      "       'DUEXTT25', 'OCFLUXU', 'OCSCATAU', 'TOTSCATAU', 'source_file',\n",
      "       'PM25_MERRA2', 'PM25_ug_m3', 'class'],\n",
      "      dtype='object')\n"
     ]
    }
   ],
   "source": [
    "columns = df.columns\n",
    "print(columns)"
   ]
  },
  {
   "cell_type": "code",
   "execution_count": 4,
   "metadata": {},
   "outputs": [],
   "source": [
    "lat_min, lat_max = df['lat'].min(), df['lat'].max()\n",
    "lon_min, lon_max = df['lon'].min(), df['lon'].max()"
   ]
  },
  {
   "cell_type": "code",
   "execution_count": 5,
   "metadata": {},
   "outputs": [],
   "source": [
    "grid_size = 20\n",
    "lat_bins = np.linspace(lat_min, lat_max, grid_size + 1)\n",
    "lon_bins = np.linspace(lon_min, lon_max, grid_size + 1)\n",
    "\n",
    "# Assign grid positions\n",
    "lat_positions = pd.cut(df['lat'], bins=lat_bins, labels=False, include_lowest=True)\n",
    "lon_positions = pd.cut(df['lon'], bins=lon_bins, labels=False, include_lowest=True)\n",
    "\n",
    "# Create location ID (0-399 for 20x20 grid)\n",
    "df['location'] = lat_positions * grid_size + lon_positions\n",
    "\n",
    "# Ensure location is integer and handle any NaN values\n",
    "df['location'] = df['location'].fillna(0).astype(int)"
   ]
  },
  {
   "cell_type": "code",
   "execution_count": 6,
   "metadata": {},
   "outputs": [],
   "source": [
    "df['class'] = df['class'].isin(['Good', 'Moderate']).astype(int)"
   ]
  },
  {
   "cell_type": "code",
   "execution_count": 7,
   "metadata": {},
   "outputs": [],
   "source": [
    "# convert to datetime\n",
    "df['time'] = pd.to_datetime(df['time'])\n",
    "\n",
    "# extract parts\n",
    "df['year'] = df['time'].dt.year\n",
    "df['month'] = df['time'].dt.month\n",
    "df['day'] = df['time'].dt.day\n",
    "df['hour'] = df['time'].dt.hour\n"
   ]
  },
  {
   "cell_type": "code",
   "execution_count": 8,
   "metadata": {},
   "outputs": [],
   "source": [
    "#df = df[df['year'] == 2025]"
   ]
  },
  {
   "cell_type": "code",
   "execution_count": 9,
   "metadata": {},
   "outputs": [
    {
     "name": "stdout",
     "output_type": "stream",
     "text": [
      "<class 'pandas.core.frame.DataFrame'>\n",
      "RangeIndex: 14006400 entries, 0 to 14006399\n",
      "Data columns (total 62 columns):\n",
      " #   Column       Dtype         \n",
      "---  ------       -----         \n",
      " 0   lon          float32       \n",
      " 1   time         datetime64[ns]\n",
      " 2   lat          float32       \n",
      " 3   DUEXTTAU     float32       \n",
      " 4   BCFLUXU      float32       \n",
      " 5   OCFLUXV      float32       \n",
      " 6   BCANGSTR     float32       \n",
      " 7   SUFLUXV      float32       \n",
      " 8   SSSMASS25    float32       \n",
      " 9   SSSMASS      float32       \n",
      " 10  OCSMASS      float32       \n",
      " 11  BCCMASS      float32       \n",
      " 12  BCSMASS      float32       \n",
      " 13  SO4CMASS     float32       \n",
      " 14  SSFLUXU      float32       \n",
      " 15  DUCMASS      float32       \n",
      " 16  SSEXTTAU     float32       \n",
      " 17  SO2CMASS     float32       \n",
      " 18  DUSCATAU     float32       \n",
      " 19  OCANGSTR     float32       \n",
      " 20  OCCMASS      float32       \n",
      " 21  TOTEXTTAU    float32       \n",
      " 22  DUSCAT25     float32       \n",
      " 23  TOTANGSTR    float32       \n",
      " 24  DMSCMASS     float32       \n",
      " 25  SSEXTT25     float32       \n",
      " 26  DUANGSTR     float32       \n",
      " 27  DMSSMASS     float32       \n",
      " 28  BCEXTTAU     float32       \n",
      " 29  SSSCATAU     float32       \n",
      " 30  DUFLUXV      float32       \n",
      " 31  DUFLUXU      float32       \n",
      " 32  SUEXTTAU     float32       \n",
      " 33  SSFLUXV      float32       \n",
      " 34  BCSCATAU     float32       \n",
      " 35  DUCMASS25    float32       \n",
      " 36  OCEXTTAU     float32       \n",
      " 37  SUANGSTR     float32       \n",
      " 38  SSSCAT25     float32       \n",
      " 39  SSCMASS25    float32       \n",
      " 40  SO4SMASS     float32       \n",
      " 41  DUSMASS      float32       \n",
      " 42  SUFLUXU      float32       \n",
      " 43  BCFLUXV      float32       \n",
      " 44  DUSMASS25    float32       \n",
      " 45  SSCMASS      float32       \n",
      " 46  SUSCATAU     float32       \n",
      " 47  SO2SMASS     float32       \n",
      " 48  SSANGSTR     float32       \n",
      " 49  DUEXTT25     float32       \n",
      " 50  OCFLUXU      float32       \n",
      " 51  OCSCATAU     float32       \n",
      " 52  TOTSCATAU    float32       \n",
      " 53  source_file  object        \n",
      " 54  PM25_MERRA2  float32       \n",
      " 55  PM25_ug_m3   float32       \n",
      " 56  class        int64         \n",
      " 57  location     int64         \n",
      " 58  year         int32         \n",
      " 59  month        int32         \n",
      " 60  day          int32         \n",
      " 61  hour         int32         \n",
      "dtypes: datetime64[ns](1), float32(54), int32(4), int64(2), object(1)\n",
      "memory usage: 3.4+ GB\n",
      "None\n"
     ]
    }
   ],
   "source": [
    "print(df.info())"
   ]
  },
  {
   "cell_type": "code",
   "execution_count": 10,
   "metadata": {},
   "outputs": [],
   "source": [
    "df.drop(columns=['lat', 'lon', 'source_file', 'time'], inplace=True)"
   ]
  },
  {
   "cell_type": "code",
   "execution_count": 11,
   "metadata": {},
   "outputs": [
    {
     "name": "stdout",
     "output_type": "stream",
     "text": [
      "Index(['DUEXTTAU', 'BCFLUXU', 'OCFLUXV', 'BCANGSTR', 'SUFLUXV', 'SSSMASS25',\n",
      "       'SSSMASS', 'OCSMASS', 'BCCMASS', 'BCSMASS', 'SO4CMASS', 'SSFLUXU',\n",
      "       'DUCMASS', 'SSEXTTAU', 'SO2CMASS', 'DUSCATAU', 'OCANGSTR', 'OCCMASS',\n",
      "       'TOTEXTTAU', 'DUSCAT25', 'TOTANGSTR', 'DMSCMASS', 'SSEXTT25',\n",
      "       'DUANGSTR', 'DMSSMASS', 'BCEXTTAU', 'SSSCATAU', 'DUFLUXV', 'DUFLUXU',\n",
      "       'SUEXTTAU', 'SSFLUXV', 'BCSCATAU', 'DUCMASS25', 'OCEXTTAU', 'SUANGSTR',\n",
      "       'SSSCAT25', 'SSCMASS25', 'SO4SMASS', 'DUSMASS', 'SUFLUXU', 'BCFLUXV',\n",
      "       'DUSMASS25', 'SSCMASS', 'SUSCATAU', 'SO2SMASS', 'SSANGSTR', 'DUEXTT25',\n",
      "       'OCFLUXU', 'OCSCATAU', 'TOTSCATAU', 'PM25_MERRA2', 'PM25_ug_m3',\n",
      "       'class', 'location', 'year', 'month', 'day', 'hour'],\n",
      "      dtype='object')\n"
     ]
    }
   ],
   "source": [
    "print(df.columns)"
   ]
  },
  {
   "cell_type": "code",
   "execution_count": 12,
   "metadata": {},
   "outputs": [],
   "source": [
    "# Save to Parquet\n",
    "df.to_parquet(\"air_quality_data_all.parquet\", engine=\"pyarrow\", index=False)"
   ]
  }
 ],
 "metadata": {
  "kernelspec": {
   "display_name": ".venv",
   "language": "python",
   "name": "python3"
  },
  "language_info": {
   "codemirror_mode": {
    "name": "ipython",
    "version": 3
   },
   "file_extension": ".py",
   "mimetype": "text/x-python",
   "name": "python",
   "nbconvert_exporter": "python",
   "pygments_lexer": "ipython3",
   "version": "3.10.12"
  }
 },
 "nbformat": 4,
 "nbformat_minor": 2
}
