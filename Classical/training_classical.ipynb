{
 "cells": [
  {
   "cell_type": "code",
   "execution_count": 1,
   "id": "17d7d83f",
   "metadata": {},
   "outputs": [],
   "source": [
    "import pandas as pd\n",
    "import numpy as np\n",
    "from sklearn.preprocessing import StandardScaler, LabelEncoder\n",
    "from sklearn.model_selection import train_test_split\n",
    "import torch\n",
    "import torch.nn as nn\n",
    "from torch.utils.data import DataLoader, TensorDataset\n",
    "from collections import defaultdict\n",
    "import time\n",
    "import gc\n",
    "import pickle\n",
    "import joblib\n",
    "import matplotlib.pyplot as plt"
   ]
  },
  {
   "cell_type": "code",
   "execution_count": 1,
   "id": "ee5026e0",
   "metadata": {},
   "outputs": [],
   "source": [
    "train_data_path = 'air_quality_data.parquet'"
   ]
  },
  {
   "cell_type": "code",
   "execution_count": 2,
   "id": "80d55fb3",
   "metadata": {},
   "outputs": [],
   "source": [
    "def transform_data(file_path, lat_bins=None, lon_bins=None, le_location=None):\n",
    "    \"\"\"Transform raw data into features for model training/testing\"\"\"\n",
    "    df = pd.read_parquet(file_path)\n",
    "    \n",
    "    # Use provided bins or compute from data\n",
    "    if lat_bins is None or lon_bins is None:\n",
    "        lat_min, lat_max = df['lat'].min(), df['lat'].max()\n",
    "        lon_min, lon_max = df['lon'].min(), df['lon'].max()\n",
    "        grid_size = 20\n",
    "        lat_bins = np.linspace(lat_min, lat_max, grid_size + 1)\n",
    "        lon_bins = np.linspace(lon_min, lon_max, grid_size + 1)\n",
    "    \n",
    "    # Create grid positions\n",
    "    lat_positions = pd.cut(df['lat'], bins=lat_bins, labels=False, include_lowest=True)\n",
    "    lon_positions = pd.cut(df['lon'], bins=lon_bins, labels=False, include_lowest=True)\n",
    "    df['location'] = lat_positions * 20 + lon_positions\n",
    "    df['location'] = df['location'].fillna(0).astype(int)\n",
    "    \n",
    "    # Process class and time features\n",
    "    df['class'] = df['class'].isin(['Good', 'Moderate']).astype(int)\n",
    "    df['time'] = pd.to_datetime(df['time'])\n",
    "    df['year'] = df['time'].dt.year\n",
    "    df['month'] = df['time'].dt.month\n",
    "    df['day'] = df['time'].dt.day\n",
    "    df['hour'] = df['time'].dt.hour\n",
    "    \n",
    "    # Select columns\n",
    "    list_of_columns = ['class', 'PM25_MERRA2', 'DUCMASS', 'TOTANGSTR', 'DUFLUXV', 'SSFLUXV', 'DUFLUXU', 'BCCMASS', 'SSSMASS25', 'location']\n",
    "    selected_columns = list_of_columns + ['year', 'month', 'day', 'hour']\n",
    "    df = df[selected_columns]\n",
    "    \n",
    "    # Encode location\n",
    "    if le_location is None:\n",
    "        le_location = LabelEncoder()\n",
    "        df['location_encoded'] = le_location.fit_transform(df['location'])\n",
    "    else:\n",
    "        # Handle unseen locations in test data\n",
    "        df['location_encoded'] = df['location'].map(\n",
    "            lambda x: le_location.transform([x])[0] if x in le_location.classes_ else -1\n",
    "        )\n",
    "    \n",
    "    df = df.sort_values(['location_encoded', 'year', 'month', 'day', 'hour'])\n",
    "    \n",
    "    # Define feature columns\n",
    "    feature_columns = [col for col in df.columns if col not in [\n",
    "        'class', 'location', 'year', 'month', 'day', 'hour', 'location_encoded'\n",
    "    ]]\n",
    "    df.drop(columns='location', inplace=True)\n",
    "    feature_columns.append('location_encoded')\n",
    "    \n",
    "    return df, feature_columns, lat_bins, lon_bins, le_location"
   ]
  },
  {
   "cell_type": "code",
   "execution_count": 3,
   "id": "5dfb2a59",
   "metadata": {},
   "outputs": [],
   "source": [
    "def create_sequences_memory_efficient(df, feature_columns, scaler=None, \n",
    "                                    input_len=168, output_len=72, stride=24):\n",
    "    \"\"\"Create sequences for multi-step forecasting\"\"\"\n",
    "    print(f\"Creating sequences with input length={input_len}, output length={output_len}...\")\n",
    "    \n",
    "    if scaler is None:\n",
    "        scaler = StandardScaler()\n",
    "        X_scaled = scaler.fit_transform(df[feature_columns])\n",
    "    else:\n",
    "        X_scaled = scaler.transform(df[feature_columns])\n",
    "    \n",
    "    X_scaled = pd.DataFrame(X_scaled, columns=feature_columns, index=df.index)\n",
    "    X_sequences, y_sequences, location_indices = [], [], []\n",
    "    unique_locations = df['location_encoded'].unique()\n",
    "\n",
    "    for i, loc in enumerate(unique_locations):\n",
    "        loc_df = df[df['location_encoded'] == loc]\n",
    "        loc_X = X_scaled.loc[loc_df.index]\n",
    "        loc_y = loc_df['class'].values\n",
    "\n",
    "        max_start_idx = len(loc_df) - input_len - output_len\n",
    "\n",
    "        for j in range(0, max_start_idx, stride):\n",
    "            X_seq = loc_X.iloc[j : j + input_len].values\n",
    "            y_target = loc_y[j + input_len : j + input_len + output_len]\n",
    "\n",
    "            X_sequences.append(X_seq)\n",
    "            y_sequences.append(y_target)\n",
    "            location_indices.append(loc)\n",
    "\n",
    "        if (i+1) % 100 == 0:\n",
    "            print(f\"Processed location {i+1}/{len(unique_locations)}\")\n",
    "\n",
    "    X_sequences = np.array(X_sequences, dtype=np.float32)\n",
    "    y_sequences = np.array(y_sequences, dtype=np.float32)\n",
    "    location_indices = np.array(location_indices)\n",
    "\n",
    "    print(f\"Total sequences: {X_sequences.shape[0]}\")\n",
    "    print(f\"Input sequence shape: {X_sequences.shape}\")\n",
    "    print(f\"Output sequence shape: {y_sequences.shape}\")\n",
    "\n",
    "    return X_sequences, y_sequences, location_indices, scaler"
   ]
  },
  {
   "cell_type": "code",
   "execution_count": 4,
   "id": "6b5feb10",
   "metadata": {},
   "outputs": [],
   "source": [
    "class ClassicalLSTMModel(nn.Module):\n",
    "    \"\"\"LSTM model for multi-step time-series forecasting\"\"\"\n",
    "    def __init__(self, n_features, n_lstm_units=128, num_layers=4, output_len=72):\n",
    "        super(ClassicalLSTMModel, self).__init__()\n",
    "        self.lstm = nn.LSTM(\n",
    "            input_size=n_features,\n",
    "            hidden_size=n_lstm_units,\n",
    "            num_layers=num_layers,\n",
    "            batch_first=True,\n",
    "            dropout=0.2\n",
    "        )\n",
    "        self.classifier = nn.Linear(n_lstm_units, output_len)\n",
    "\n",
    "    def forward(self, x):\n",
    "        lstm_out, _ = self.lstm(x)\n",
    "        final_lstm_output = lstm_out[:, -1, :]\n",
    "        output = self.classifier(final_lstm_output)\n",
    "        return torch.sigmoid(output)"
   ]
  },
  {
   "cell_type": "code",
   "execution_count": 5,
   "id": "9d8062eb",
   "metadata": {},
   "outputs": [],
   "source": [
    "def train_model_pytorch(model, train_loader, val_loader, epochs=25, patience=5):\n",
    "    \"\"\"Train the PyTorch model\"\"\"\n",
    "    print(\"Starting training with PyTorch...\")\n",
    "    device = torch.device(\"cuda\" if torch.cuda.is_available() else \"cpu\")\n",
    "    model.to(device)\n",
    "\n",
    "    criterion = nn.BCELoss()\n",
    "    optimizer = torch.optim.Adam(model.parameters(), lr=0.002)\n",
    "    scheduler = torch.optim.lr_scheduler.ReduceLROnPlateau(optimizer, 'min', patience=2, factor=0.5)\n",
    "\n",
    "    history = defaultdict(list)\n",
    "    best_val_loss = float('inf')\n",
    "    patience_counter = 0\n",
    "\n",
    "    for epoch in range(epochs):\n",
    "        epoch_start_time = time.time()\n",
    "        model.train()\n",
    "        train_loss, train_correct, train_samples = 0, 0, 0\n",
    "\n",
    "        for X_batch, y_batch in train_loader:\n",
    "            X_batch, y_batch = X_batch.to(device), y_batch.to(device)\n",
    "\n",
    "            optimizer.zero_grad()\n",
    "            outputs = model(X_batch)\n",
    "            loss = criterion(outputs, y_batch)\n",
    "            loss.backward()\n",
    "            optimizer.step()\n",
    "\n",
    "            train_loss += loss.item() * X_batch.size(0)\n",
    "            preds = (outputs > 0.5).float()\n",
    "            train_correct += (preds == y_batch).sum().item()\n",
    "            train_samples += y_batch.size(0) * y_batch.size(1)\n",
    "\n",
    "        train_loss /= train_samples\n",
    "        train_acc = train_correct / train_samples\n",
    "        history['loss'].append(train_loss)\n",
    "        history['accuracy'].append(train_acc)\n",
    "\n",
    "        # Validation\n",
    "        model.eval()\n",
    "        val_loss, val_correct, val_samples = 0, 0, 0\n",
    "        with torch.no_grad():\n",
    "            for X_batch, y_batch in val_loader:\n",
    "                X_batch, y_batch = X_batch.to(device), y_batch.to(device)\n",
    "                outputs = model(X_batch)\n",
    "                loss = criterion(outputs, y_batch)\n",
    "\n",
    "                val_loss += loss.item() * X_batch.size(0)\n",
    "                preds = (outputs > 0.5).float()\n",
    "                val_correct += (preds == y_batch).sum().item()\n",
    "                val_samples += y_batch.size(0) * y_batch.size(1)\n",
    "\n",
    "        val_loss /= val_samples\n",
    "        val_acc = val_correct / val_samples\n",
    "        history['val_loss'].append(val_loss)\n",
    "        history['val_accuracy'].append(val_acc)\n",
    "\n",
    "        scheduler.step(val_loss)\n",
    "\n",
    "        epoch_duration = time.time() - epoch_start_time\n",
    "        print(f\"Epoch {epoch+1}/{epochs} - \"\n",
    "              f\"Loss: {train_loss:.4f}, Acc: {train_acc:.4f} - \"\n",
    "              f\"Val Loss: {val_loss:.4f}, Val Acc: {val_acc:.4f} - \"\n",
    "              f\"Duration: {epoch_duration:.2f}s\")\n",
    "\n",
    "        if val_loss < best_val_loss:\n",
    "            best_val_loss = val_loss\n",
    "            torch.save(model.state_dict(), 'best_classical_lstm_model.pth')\n",
    "            patience_counter = 0\n",
    "            print(\"  -> Validation loss improved. Saving model.\")\n",
    "        else:\n",
    "            patience_counter += 1\n",
    "            if patience_counter >= patience:\n",
    "                print(\"  -> Early stopping triggered.\")\n",
    "                break\n",
    "\n",
    "    model.load_state_dict(torch.load('best_classical_lstm_model.pth'))\n",
    "    return model, history"
   ]
  },
  {
   "cell_type": "code",
   "execution_count": 6,
   "id": "4664377e",
   "metadata": {},
   "outputs": [],
   "source": [
    "def plot_training_history(history):\n",
    "    \"\"\"Plot training history\"\"\"\n",
    "    plt.figure(figsize=(12, 4))\n",
    "\n",
    "    plt.subplot(1, 2, 1)\n",
    "    plt.plot(history['loss'], label='Training Loss')\n",
    "    plt.plot(history['val_loss'], label='Validation Loss')\n",
    "    plt.title('Model Loss')\n",
    "    plt.xlabel('Epoch')\n",
    "    plt.ylabel('Loss')\n",
    "    plt.legend()\n",
    "\n",
    "    plt.subplot(1, 2, 2)\n",
    "    plt.plot(history['accuracy'], label='Training Accuracy')\n",
    "    plt.plot(history['val_accuracy'], label='Validation Accuracy')\n",
    "    plt.title('Model Accuracy')\n",
    "    plt.xlabel('Epoch')\n",
    "    plt.ylabel('Accuracy (per timestep)')\n",
    "    plt.legend()\n",
    "\n",
    "    plt.tight_layout()\n",
    "    plt.savefig('classical_training_history_multistep.png', dpi=300, bbox_inches='tight')\n",
    "    plt.show()"
   ]
  },
  {
   "cell_type": "code",
   "execution_count": 7,
   "id": "905ca4ff",
   "metadata": {},
   "outputs": [
    {
     "name": "stdout",
     "output_type": "stream",
     "text": [
      "✅ Found GPU: NVIDIA GeForce RTX 3050 Laptop GPU. Using CUDA.\n"
     ]
    }
   ],
   "source": [
    "if torch.cuda.is_available():\n",
    "    print(f\"✅ Found GPU: {torch.cuda.get_device_name(0)}. Using CUDA.\")\n",
    "else:\n",
    "    print(\"❌ No GPU found. The script will run on the CPU.\")"
   ]
  },
  {
   "cell_type": "code",
   "execution_count": null,
   "id": "d8fa148d",
   "metadata": {},
   "outputs": [
    {
     "name": "stdout",
     "output_type": "stream",
     "text": [
      "Creating sequences with input length=168, output length=72...\n",
      "Processed location 100/400\n",
      "Processed location 200/400\n",
      "Processed location 300/400\n",
      "Processed location 400/400\n",
      "Total sequences: 579600\n",
      "Input sequence shape: (579600, 168, 9)\n",
      "Output sequence shape: (579600, 72)\n",
      "Training set shape: (463680, 168, 9)\n",
      "Validation set shape: (115920, 168, 9)\n",
      "Training target shape: (463680, 72)\n",
      "Validation target shape: (115920, 72)\n"
     ]
    },
    {
     "data": {
      "text/plain": [
       "0"
      ]
     },
     "execution_count": 8,
     "metadata": {},
     "output_type": "execute_result"
    }
   ],
   "source": [
    "df, feature_columns, lat_bins, lon_bins, le_location = transform_data(train_data_path)\n",
    "\n",
    "# Create sequences\n",
    "X_sequences, y_sequences, location_indices, scaler = create_sequences_memory_efficient(\n",
    "    df, feature_columns, input_len=168, output_len=72, stride=24\n",
    ")\n",
    "\n",
    "# Split data\n",
    "X_train, X_val, y_train, y_val, loc_train, loc_val = train_test_split(\n",
    "    X_sequences, y_sequences, location_indices,\n",
    "    test_size=0.2, random_state=42, stratify=location_indices\n",
    ")\n",
    "\n",
    "print(f\"Training set shape: {X_train.shape}\")\n",
    "print(f\"Validation set shape: {X_val.shape}\")\n",
    "print(f\"Training target shape: {y_train.shape}\")\n",
    "print(f\"Validation target shape: {y_val.shape}\")\n",
    "\n",
    "# Clean up memory\n",
    "del X_sequences, y_sequences, location_indices\n",
    "gc.collect()"
   ]
  },
  {
   "cell_type": "code",
   "execution_count": 9,
   "id": "6783fbc5",
   "metadata": {},
   "outputs": [],
   "source": [
    "batch_size = 512\n",
    "train_dataset = TensorDataset(torch.from_numpy(X_train), torch.from_numpy(y_train))\n",
    "val_dataset = TensorDataset(torch.from_numpy(X_val), torch.from_numpy(y_val))\n",
    "train_loader = DataLoader(train_dataset, batch_size=batch_size, shuffle=True)\n",
    "val_loader = DataLoader(val_dataset, batch_size=batch_size, shuffle=False)"
   ]
  },
  {
   "cell_type": "code",
   "execution_count": 10,
   "id": "3c750825",
   "metadata": {},
   "outputs": [],
   "source": [
    "n_lstm_units = 128\n",
    "num_layers = 4\n",
    "model = ClassicalLSTMModel(\n",
    "    n_features=len(feature_columns),\n",
    "    n_lstm_units=n_lstm_units,\n",
    "    num_layers=num_layers,\n",
    "    output_len=72\n",
    ")"
   ]
  },
  {
   "cell_type": "code",
   "execution_count": 12,
   "id": "7bebe2e8",
   "metadata": {},
   "outputs": [
    {
     "name": "stdout",
     "output_type": "stream",
     "text": [
      "Starting training with PyTorch...\n"
     ]
    },
    {
     "ename": "KeyboardInterrupt",
     "evalue": "",
     "output_type": "error",
     "traceback": [
      "\u001b[0;31m---------------------------------------------------------------------------\u001b[0m",
      "\u001b[0;31mKeyboardInterrupt\u001b[0m                         Traceback (most recent call last)",
      "Cell \u001b[0;32mIn[12], line 1\u001b[0m\n\u001b[0;32m----> 1\u001b[0m model, history \u001b[38;5;241m=\u001b[39m \u001b[43mtrain_model_pytorch\u001b[49m\u001b[43m(\u001b[49m\u001b[43mmodel\u001b[49m\u001b[43m,\u001b[49m\u001b[43m \u001b[49m\u001b[43mtrain_loader\u001b[49m\u001b[43m,\u001b[49m\u001b[43m \u001b[49m\u001b[43mval_loader\u001b[49m\u001b[43m,\u001b[49m\u001b[43m \u001b[49m\u001b[43mepochs\u001b[49m\u001b[38;5;241;43m=\u001b[39;49m\u001b[38;5;241;43m30\u001b[39;49m\u001b[43m,\u001b[49m\u001b[43m \u001b[49m\u001b[43mpatience\u001b[49m\u001b[38;5;241;43m=\u001b[39;49m\u001b[38;5;241;43m5\u001b[39;49m\u001b[43m)\u001b[49m\n",
      "Cell \u001b[0;32mIn[5], line 29\u001b[0m, in \u001b[0;36mtrain_model_pytorch\u001b[0;34m(model, train_loader, val_loader, epochs, patience)\u001b[0m\n\u001b[1;32m     26\u001b[0m loss\u001b[38;5;241m.\u001b[39mbackward()\n\u001b[1;32m     27\u001b[0m optimizer\u001b[38;5;241m.\u001b[39mstep()\n\u001b[0;32m---> 29\u001b[0m train_loss \u001b[38;5;241m+\u001b[39m\u001b[38;5;241m=\u001b[39m \u001b[43mloss\u001b[49m\u001b[38;5;241;43m.\u001b[39;49m\u001b[43mitem\u001b[49m\u001b[43m(\u001b[49m\u001b[43m)\u001b[49m \u001b[38;5;241m*\u001b[39m X_batch\u001b[38;5;241m.\u001b[39msize(\u001b[38;5;241m0\u001b[39m)\n\u001b[1;32m     30\u001b[0m preds \u001b[38;5;241m=\u001b[39m (outputs \u001b[38;5;241m>\u001b[39m \u001b[38;5;241m0.5\u001b[39m)\u001b[38;5;241m.\u001b[39mfloat()\n\u001b[1;32m     31\u001b[0m train_correct \u001b[38;5;241m+\u001b[39m\u001b[38;5;241m=\u001b[39m (preds \u001b[38;5;241m==\u001b[39m y_batch)\u001b[38;5;241m.\u001b[39msum()\u001b[38;5;241m.\u001b[39mitem()\n",
      "\u001b[0;31mKeyboardInterrupt\u001b[0m: "
     ]
    }
   ],
   "source": [
    "model, history = train_model_pytorch(model, train_loader, val_loader, epochs=30, patience=5)"
   ]
  },
  {
   "cell_type": "code",
   "execution_count": null,
   "id": "4a138028",
   "metadata": {},
   "outputs": [],
   "source": [
    "plot_training_history(history)"
   ]
  },
  {
   "cell_type": "code",
   "execution_count": 13,
   "id": "e58691b7",
   "metadata": {},
   "outputs": [
    {
     "name": "stdout",
     "output_type": "stream",
     "text": [
      "Training complete. Model and preprocessing objects saved.\n"
     ]
    }
   ],
   "source": [
    "preprocessing_state = {\n",
    "    'lat_bins': lat_bins,\n",
    "    'lon_bins': lon_bins,\n",
    "    'le_location': le_location,\n",
    "    'feature_columns': feature_columns,\n",
    "    'scaler': scaler\n",
    "}\n",
    "\n",
    "with open('preprocessing_state.pkl', 'wb') as f:\n",
    "    pickle.dump(preprocessing_state, f)\n",
    "\n",
    "joblib.dump(scaler, 'scaler.pkl')\n",
    "\n",
    "print(\"Training complete. Model and preprocessing objects saved.\")"
   ]
  }
 ],
 "metadata": {
  "kernelspec": {
   "display_name": "Python 3",
   "language": "python",
   "name": "python3"
  },
  "language_info": {
   "codemirror_mode": {
    "name": "ipython",
    "version": 3
   },
   "file_extension": ".py",
   "mimetype": "text/x-python",
   "name": "python",
   "nbconvert_exporter": "python",
   "pygments_lexer": "ipython3",
   "version": "3.10.12"
  }
 },
 "nbformat": 4,
 "nbformat_minor": 5
}
