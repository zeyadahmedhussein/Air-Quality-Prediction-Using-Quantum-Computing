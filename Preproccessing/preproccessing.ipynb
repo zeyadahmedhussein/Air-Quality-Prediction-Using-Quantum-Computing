{
 "cells": [
  {
   "cell_type": "code",
   "execution_count": 1,
   "metadata": {},
   "outputs": [],
   "source": [
    "import pandas as pd\n",
    "import numpy as np\n",
    "from sklearn.preprocessing import StandardScaler, LabelEncoder\n",
    "from sklearn.model_selection import train_test_split\n",
    "import gc\n",
    "import pickle\n",
    "import joblib"
   ]
  },
  {
   "cell_type": "code",
   "execution_count": 2,
   "metadata": {},
   "outputs": [],
   "source": [
    "def transform_data(file_path, lat_bins=None, lon_bins=None, le_location=None):\n",
    "    \"\"\"Transform raw data into features for model training/testing\"\"\"\n",
    "    df = pd.read_parquet(file_path)\n",
    "    \n",
    "    # Use provided bins or compute from data\n",
    "    if lat_bins is None or lon_bins is None:\n",
    "        lat_min, lat_max = df['lat'].min(), df['lat'].max()\n",
    "        lon_min, lon_max = df['lon'].min(), df['lon'].max()\n",
    "        grid_size = 20\n",
    "        lat_bins = np.linspace(lat_min, lat_max, grid_size + 1)\n",
    "        lon_bins = np.linspace(lon_min, lon_max, grid_size + 1)\n",
    "    \n",
    "    # Create grid positions\n",
    "    lat_positions = pd.cut(df['lat'], bins=lat_bins, labels=False, include_lowest=True)\n",
    "    lon_positions = pd.cut(df['lon'], bins=lon_bins, labels=False, include_lowest=True)\n",
    "    df['location'] = lat_positions * 20 + lon_positions\n",
    "    df['location'] = df['location'].fillna(0).astype(int)\n",
    "    \n",
    "    # Process class and time features\n",
    "    df['class'] = df['class'].isin(['Good', 'Moderate']).astype(int)\n",
    "    df['time'] = pd.to_datetime(df['time'])\n",
    "    df['year'] = df['time'].dt.year\n",
    "    df['month'] = df['time'].dt.month\n",
    "    df['day'] = df['time'].dt.day\n",
    "    df['hour'] = df['time'].dt.hour\n",
    "    \n",
    "    # Select columns\n",
    "    list_of_columns = ['class', 'PM25_MERRA2', 'DUCMASS', 'TOTANGSTR', 'DUFLUXV', 'SSFLUXV', 'DUFLUXU', 'BCCMASS', 'SSSMASS25', 'location']\n",
    "    selected_columns = list_of_columns + ['year', 'month', 'day', 'hour']\n",
    "    df = df[selected_columns]\n",
    "    \n",
    "    # Encode location\n",
    "    if le_location is None:\n",
    "        le_location = LabelEncoder()\n",
    "        df['location_encoded'] = le_location.fit_transform(df['location'])\n",
    "    else:\n",
    "        # Handle unseen locations in test data\n",
    "        df['location_encoded'] = df['location'].map(\n",
    "            lambda x: le_location.transform([x])[0] if x in le_location.classes_ else -1\n",
    "        )\n",
    "    \n",
    "    df = df.sort_values(['location_encoded', 'year', 'month', 'day', 'hour'])\n",
    "    \n",
    "    # Define feature columns\n",
    "    feature_columns = [col for col in df.columns if col not in [\n",
    "        'class', 'location', 'year', 'month', 'day', 'hour', 'location_encoded'\n",
    "    ]]\n",
    "    df.drop(columns='location', inplace=True)\n",
    "    feature_columns.append('location_encoded')\n",
    "    \n",
    "    return df, feature_columns, lat_bins, lon_bins, le_location"
   ]
  },
  {
   "cell_type": "code",
   "execution_count": 3,
   "metadata": {},
   "outputs": [],
   "source": [
    "def create_sequences_memory_efficient(df, feature_columns, scaler=None, \n",
    "                                    input_len=168, output_len=72, stride=24):\n",
    "    \"\"\"Create sequences for multi-step forecasting\"\"\"\n",
    "    print(f\"Creating sequences with input length={input_len}, output length={output_len}...\")\n",
    "    \n",
    "    if scaler is None:\n",
    "        scaler = StandardScaler()\n",
    "        X_scaled = scaler.fit_transform(df[feature_columns])\n",
    "    else:\n",
    "        X_scaled = scaler.transform(df[feature_columns])\n",
    "    \n",
    "    X_scaled = pd.DataFrame(X_scaled, columns=feature_columns, index=df.index)\n",
    "    X_sequences, y_sequences, location_indices = [], [], []\n",
    "    unique_locations = df['location_encoded'].unique()\n",
    "\n",
    "    for i, loc in enumerate(unique_locations):\n",
    "        loc_df = df[df['location_encoded'] == loc]\n",
    "        loc_X = X_scaled.loc[loc_df.index]\n",
    "        loc_y = loc_df['class'].values\n",
    "\n",
    "        max_start_idx = len(loc_df) - input_len - output_len\n",
    "\n",
    "        for j in range(0, max_start_idx, stride):\n",
    "            X_seq = loc_X.iloc[j : j + input_len].values\n",
    "            y_target = loc_y[j + input_len : j + input_len + output_len]\n",
    "\n",
    "            X_sequences.append(X_seq)\n",
    "            y_sequences.append(y_target)\n",
    "            location_indices.append(loc)\n",
    "\n",
    "        if (i+1) % 100 == 0:\n",
    "            print(f\"Processed location {i+1}/{len(unique_locations)}\")\n",
    "\n",
    "    X_sequences = np.array(X_sequences, dtype=np.float32)\n",
    "    y_sequences = np.array(y_sequences, dtype=np.float32)\n",
    "    location_indices = np.array(location_indices)\n",
    "\n",
    "    print(f\"Total sequences: {X_sequences.shape[0]}\")\n",
    "    print(f\"Input sequence shape: {X_sequences.shape}\")\n",
    "    print(f\"Output sequence shape: {y_sequences.shape}\")\n",
    "\n",
    "    return X_sequences, y_sequences, location_indices, scaler"
   ]
  },
  {
   "cell_type": "code",
   "execution_count": 4,
   "metadata": {},
   "outputs": [
    {
     "name": "stdout",
     "output_type": "stream",
     "text": [
      "Creating sequences with input length=168, output length=72...\n",
      "Processed location 100/400\n",
      "Processed location 200/400\n",
      "Processed location 300/400\n",
      "Processed location 400/400\n",
      "Total sequences: 579600\n",
      "Input sequence shape: (579600, 168, 9)\n",
      "Output sequence shape: (579600, 72)\n",
      "Training set shape: (347760, 168, 9)\n",
      "Validation set shape: (115920, 168, 9)\n",
      "Test set shape: (115920, 168, 9)\n",
      "Training target shape: (347760, 72)\n",
      "Test target shape: (115920, 72)\n",
      "Validation target shape: (115920, 72)\n"
     ]
    }
   ],
   "source": [
    "train_data_path = 'air_quality_data.parquet'\n",
    "\n",
    "df, feature_columns, lat_bins, lon_bins, le_location = transform_data(train_data_path)\n",
    "\n",
    "# Create sequences\n",
    "X_sequences, y_sequences, location_indices, scaler = create_sequences_memory_efficient(\n",
    "    df, feature_columns, input_len=168, output_len=72, stride=24\n",
    ")\n",
    "\n",
    "# Split data\n",
    "X_train, X_temp, y_train, y_temp, loc_train, loc_temp = train_test_split(\n",
    "    X_sequences, y_sequences, location_indices,\n",
    "    test_size=0.4, random_state=42, stratify=location_indices\n",
    ")\n",
    "\n",
    "X_test, X_val, y_test, y_val, loc_test, loc_val = train_test_split(\n",
    "    X_temp, y_temp, loc_temp,\n",
    "    test_size=0.5, random_state=42, stratify=loc_temp\n",
    ")\n",
    "\n",
    "del X_sequences, y_sequences\n",
    "gc.collect()\n",
    "\n",
    "print(f\"Training set shape: {X_train.shape}\")\n",
    "print(f\"Validation set shape: {X_val.shape}\")\n",
    "print(f\"Test set shape: {X_test.shape}\")\n",
    "print(f\"Training target shape: {y_train.shape}\")\n",
    "print(f\"Test target shape: {y_val.shape}\")\n",
    "print(f\"Validation target shape: {y_test.shape}\")"
   ]
  },
  {
   "cell_type": "code",
   "execution_count": 5,
   "metadata": {},
   "outputs": [
    {
     "name": "stdout",
     "output_type": "stream",
     "text": [
      "[  0   0   0 ... 399 399 399]\n"
     ]
    }
   ],
   "source": [
    "print(location_indices)"
   ]
  },
  {
   "cell_type": "code",
   "execution_count": 6,
   "metadata": {},
   "outputs": [],
   "source": [
    "np.save('X_train.npy', X_train) \n",
    "np.save('y_train.npy', y_train)\n",
    "np.save('loc_train.npy', loc_train)\n",
    "np.save('X_test.npy', X_test)\n",
    "np.save('y_test.npy', y_test)\n",
    "np.save('y_val.npy', y_val)\n",
    "np.save('X_val.npy', X_val) \n",
    "np.save('loc_val.npy', loc_val)\n",
    "np.save('loc_test.npy', loc_test)\n",
    "np.save('location_indices.npy', location_indices)"
   ]
  },
  {
   "cell_type": "code",
   "execution_count": 6,
   "metadata": {},
   "outputs": [
    {
     "data": {
      "text/plain": [
       "['scaler.pkl']"
      ]
     },
     "execution_count": 6,
     "metadata": {},
     "output_type": "execute_result"
    }
   ],
   "source": [
    "preprocessing_state = {\n",
    "    'lat_bins': lat_bins,\n",
    "    'lon_bins': lon_bins,\n",
    "    'le_location': le_location,\n",
    "    'feature_columns': feature_columns,\n",
    "    'scaler': scaler\n",
    "}\n",
    "\n",
    "with open('preprocessing_state.pkl', 'wb') as f:\n",
    "    pickle.dump(preprocessing_state, f)\n",
    "\n",
    "joblib.dump(scaler, 'scaler.pkl')"
   ]
  }
 ],
 "metadata": {
  "kernelspec": {
   "display_name": "Python 3",
   "language": "python",
   "name": "python3"
  },
  "language_info": {
   "codemirror_mode": {
    "name": "ipython",
    "version": 3
   },
   "file_extension": ".py",
   "mimetype": "text/x-python",
   "name": "python",
   "nbconvert_exporter": "python",
   "pygments_lexer": "ipython3",
   "version": "3.10.12"
  }
 },
 "nbformat": 4,
 "nbformat_minor": 2
}
